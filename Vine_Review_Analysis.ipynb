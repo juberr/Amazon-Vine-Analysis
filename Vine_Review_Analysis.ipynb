{
 "cells": [
  {
   "cell_type": "code",
   "execution_count": 1,
   "metadata": {
    "colab": {
     "base_uri": "https://localhost:8080/"
    },
    "id": "RCfkMseUiuJy",
    "outputId": "d5fce04f-ee4d-40c3-daa3-41b508144663"
   },
   "outputs": [
    {
     "name": "stdout",
     "output_type": "stream",
     "text": [
      "\r",
      "0% [Working]\r",
      "            \r",
      "Get:1 http://security.ubuntu.com/ubuntu bionic-security InRelease [88.7 kB]\n",
      "\r",
      "0% [Connecting to archive.ubuntu.com (91.189.88.152)] [1 InRelease 14.2 kB/88.7\r",
      "0% [Waiting for headers] [Waiting for headers] [Waiting for headers] [Waiting f\r",
      "                                                                               \r",
      "Ign:2 https://developer.download.nvidia.com/compute/cuda/repos/ubuntu1804/x86_64  InRelease\n",
      "\r",
      "0% [Waiting for headers] [Waiting for headers] [Waiting for headers] [Waiting f\r",
      "0% [1 InRelease gpgv 88.7 kB] [Waiting for headers] [Waiting for headers] [Wait\r",
      "                                                                               \r",
      "Get:3 https://cloud.r-project.org/bin/linux/ubuntu bionic-cran40/ InRelease [3,626 B]\n",
      "\r",
      "0% [1 InRelease gpgv 88.7 kB] [Waiting for headers] [3 InRelease 3,626 B/3,626 \r",
      "0% [1 InRelease gpgv 88.7 kB] [Waiting for headers] [Waiting for headers] [Wait\r",
      "                                                                               \r",
      "Hit:4 http://archive.ubuntu.com/ubuntu bionic InRelease\n",
      "\r",
      "                                                                               \r",
      "0% [1 InRelease gpgv 88.7 kB] [Waiting for headers] [Waiting for headers]\r",
      "                                                                         \r",
      "Get:5 http://ppa.launchpad.net/c2d4u.team/c2d4u4.0+/ubuntu bionic InRelease [15.9 kB]\n",
      "\r",
      "0% [1 InRelease gpgv 88.7 kB] [Waiting for headers] [5 InRelease 14.2 kB/15.9 k\r",
      "                                                                               \r",
      "Ign:6 https://developer.download.nvidia.com/compute/machine-learning/repos/ubuntu1804/x86_64  InRelease\n",
      "\r",
      "0% [1 InRelease gpgv 88.7 kB] [Waiting for headers] [5 InRelease 14.2 kB/15.9 k\r",
      "                                                                               \r",
      "Hit:7 https://developer.download.nvidia.com/compute/cuda/repos/ubuntu1804/x86_64  Release\n",
      "Hit:8 https://developer.download.nvidia.com/compute/machine-learning/repos/ubuntu1804/x86_64  Release\n",
      "Get:9 http://archive.ubuntu.com/ubuntu bionic-updates InRelease [88.7 kB]\n",
      "Hit:10 http://ppa.launchpad.net/cran/libgit2/ubuntu bionic InRelease\n",
      "Get:11 http://security.ubuntu.com/ubuntu bionic-security/universe amd64 Packages [1,391 kB]\n",
      "Get:12 http://archive.ubuntu.com/ubuntu bionic-backports InRelease [74.6 kB]\n",
      "Hit:13 http://ppa.launchpad.net/graphics-drivers/ppa/ubuntu bionic InRelease\n",
      "Get:14 http://security.ubuntu.com/ubuntu bionic-security/main amd64 Packages [1,929 kB]\n",
      "Get:17 http://ppa.launchpad.net/c2d4u.team/c2d4u4.0+/ubuntu bionic/main Sources [1,733 kB]\n",
      "Get:18 http://archive.ubuntu.com/ubuntu bionic-updates/main amd64 Packages [2,360 kB]\n",
      "Get:19 http://ppa.launchpad.net/c2d4u.team/c2d4u4.0+/ubuntu bionic/main amd64 Packages [887 kB]\n",
      "Get:20 http://archive.ubuntu.com/ubuntu bionic-updates/universe amd64 Packages [2,162 kB]\n",
      "Fetched 10.7 MB in 3s (3,292 kB/s)\n",
      "Reading package lists... Done\n"
     ]
    }
   ],
   "source": [
    "import os\n",
    "# Find the latest version of spark 2.0  from http://www-us.apache.org/dist/spark/ and enter as the spark version\n",
    "# For example:\n",
    "# spark_version = 'spark-3.0.0'\n",
    "spark_version = 'spark-3.0.2'\n",
    "os.environ['SPARK_VERSION']=spark_version\n",
    "\n",
    "# Install Spark and Java\n",
    "!apt-get update\n",
    "!apt-get install openjdk-11-jdk-headless -qq > /dev/null\n",
    "!wget -q http://www-us.apache.org/dist/spark/$SPARK_VERSION/$SPARK_VERSION-bin-hadoop2.7.tgz\n",
    "!tar xf $SPARK_VERSION-bin-hadoop2.7.tgz\n",
    "!pip install -q findspark\n",
    "\n",
    "# Set Environment Variables\n",
    "import os\n",
    "os.environ[\"JAVA_HOME\"] = \"/usr/lib/jvm/java-11-openjdk-amd64\"\n",
    "os.environ[\"SPARK_HOME\"] = f\"/content/{spark_version}-bin-hadoop2.7\"\n",
    "\n",
    "# Start a SparkSession\n",
    "import findspark\n",
    "findspark.init()"
   ]
  },
  {
   "cell_type": "code",
   "execution_count": 2,
   "metadata": {
    "id": "5Tmw3rwYjBUY"
   },
   "outputs": [],
   "source": [
    "from pyspark.sql import SparkSession\n",
    "spark = SparkSession.builder.appName(\"BigData-Challenge\").config(\"spark.driver.extraClassPath\",\"/content/postgresql-42.2.16.jar\").getOrCreate()"
   ]
  },
  {
   "cell_type": "code",
   "execution_count": 15,
   "metadata": {
    "colab": {
     "base_uri": "https://localhost:8080/"
    },
    "id": "2Vs_3jkrjE0N",
    "outputId": "120560cb-be6c-48a7-e8fc-4f53e85d1642"
   },
   "outputs": [
    {
     "name": "stdout",
     "output_type": "stream",
     "text": [
      "+-----------+-----------+--------------+----------+--------------+--------------------+----------------+-----------+-------------+-----------+----+-----------------+--------------------+--------------------+-----------+\n",
      "|marketplace|customer_id|     review_id|product_id|product_parent|       product_title|product_category|star_rating|helpful_votes|total_votes|vine|verified_purchase|     review_headline|         review_body|review_date|\n",
      "+-----------+-----------+--------------+----------+--------------+--------------------+----------------+-----------+-------------+-----------+----+-----------------+--------------------+--------------------+-----------+\n",
      "|         US|   12039526| RTIS3L2M1F5SM|B001CXYMFS|     737716809|Thrustmaster T-Fl...|     Video Games|          5|            0|          0|   N|                Y|an amazing joysti...|Used this for Eli...| 2015-08-31|\n",
      "|         US|    9636577| R1ZV7R40OLHKD|B00M920ND6|     569686175|Tonsee 6 buttons ...|     Video Games|          5|            0|          0|   N|                Y|Definitely a sile...|Loved it,  I didn...| 2015-08-31|\n",
      "|         US|    2331478|R3BH071QLH8QMC|B0029CSOD2|      98937668|Hidden Mysteries:...|     Video Games|          1|            0|          1|   N|                Y|            One Star|poor quality work...| 2015-08-31|\n",
      "|         US|   52495923|R127K9NTSXA2YH|B00GOOSV98|      23143350|GelTabz Performan...|     Video Games|          3|            0|          0|   N|                Y|good, but could b...|nice, but tend to...| 2015-08-31|\n",
      "|         US|   14533949|R32ZWUXDJPW27Q|B00Y074JOM|     821342511|Zero Suit Samus a...|     Video Games|          4|            0|          0|   N|                Y|   Great but flawed.|Great amiibo, gre...| 2015-08-31|\n",
      "|         US|    2377552|R3AQQ4YUKJWBA6|B002UBI6W6|     328764615|Psyclone Recharge...|     Video Games|          1|            0|          0|   N|                Y|            One Star|The remote consta...| 2015-08-31|\n",
      "|         US|   17521011|R2F0POU5K6F73F|B008XHCLFO|      24234603|Protection for yo...|     Video Games|          5|            0|          0|   N|                Y|              A Must|I have a 2012-201...| 2015-08-31|\n",
      "|         US|   19676307|R3VNR804HYSMR6|B00BRA9R6A|     682267517|   Nerf 3DS XL Armor|     Video Games|          5|            0|          0|   N|                Y|          Five Stars|Perfect, kids lov...| 2015-08-31|\n",
      "|         US|     224068| R3GZTM72WA2QH|B009EPWJLA|     435241890|One Piece: Pirate...|     Video Games|          5|            0|          0|   N|                Y|          Five Stars|            Excelent| 2015-08-31|\n",
      "|         US|   48467989| RNQOY62705W1K|B0000AV7GB|     256572651|Playstation 2 Dan...|     Video Games|          4|            0|          0|   N|                Y|          Four Stars|Slippery but expe...| 2015-08-31|\n",
      "|         US|     106569|R1VTIA3JTYBY02|B00008KTNN|     384411423|Metal Arms: Glitc...|     Video Games|          5|            0|          0|   N|                N|          Five Stars|Love the game. Se...| 2015-08-31|\n",
      "|         US|   48269642|R29DOU8791QZL8|B000A3IA0Y|     472622859|72 Pin Connector ...|     Video Games|          1|            0|          0|   N|                Y| Game will get stuck|Does not fit prop...| 2015-08-31|\n",
      "|         US|   52738710|R15DUT1VIJ9RJZ|B0053BQN34|     577628462|uDraw Gametablet ...|     Video Games|          2|            0|          0|   N|                Y|We have tried it ...|This was way too ...| 2015-08-31|\n",
      "|         US|   10556786|R3IMF2MQ3OU9ZM|B002I0HIMI|     988218515|NBA 2K12(Covers M...|     Video Games|          4|            0|          0|   N|                Y|          Four Stars|Works great good ...| 2015-08-31|\n",
      "|         US|    2963837|R23H79DHOZTYAU|B0081EH12M|     770100932|New Trigger Grips...|     Video Games|          1|            1|          1|   N|                Y|Now i have to buy...|It did not fit th...| 2015-08-31|\n",
      "|         US|   23092109| RIV24EQAIXA4O|B005FMLZQQ|      24647669|Xbox 360 Media Re...|     Video Games|          5|            0|          0|   N|                Y|          Five Stars|perfect lightweig...| 2015-08-31|\n",
      "|         US|   23091728|R3UCNGYDVN24YB|B002BSA388|      33706205|Super Mario Galaxy 2|     Video Games|          5|            0|          0|   N|                Y|          Five Stars|               great| 2015-08-31|\n",
      "|         US|   10712640| RUL4H4XTTN2DY|B00BUSLSAC|     829667834|Nintendo 3DS XL -...|     Video Games|          5|            0|          0|   N|                Y|          Five Stars|Works beautifully...| 2015-08-31|\n",
      "|         US|   17455376|R20JF7Z4DHTNX5|B00KWF38AW|     110680188|Captain Toad:  Tr...|     Video Games|          5|            0|          0|   N|                Y|          Five Stars|Kids loved the ga...| 2015-08-31|\n",
      "|         US|   14754850|R2T1AJ5MFI2260|B00BRQJYA8|     616463426|Lego Batman 2: DC...|     Video Games|          4|            0|          0|   N|                Y|          Four Stars|           Goodngame| 2015-08-31|\n",
      "+-----------+-----------+--------------+----------+--------------+--------------------+----------------+-----------+-------------+-----------+----+-----------------+--------------------+--------------------+-----------+\n",
      "only showing top 20 rows\n",
      "\n"
     ]
    }
   ],
   "source": [
    "from pyspark import SparkFiles\n",
    "url = \"https://s3.amazonaws.com/amazon-reviews-pds/tsv/amazon_reviews_us_Video_Games_v1_00.tsv.gz\"\n",
    "spark.sparkContext.addFile(url)\n",
    "df = spark.read.option(\"encoding\", \"UTF-8\").csv(SparkFiles.get(\"amazon_reviews_us_Video_Games_v1_00.tsv.gz\"), sep=\"\\t\", header=True, inferSchema=True)\n",
    "df.show(truncate=True)"
   ]
  },
  {
   "cell_type": "code",
   "execution_count": 4,
   "metadata": {
    "colab": {
     "base_uri": "https://localhost:8080/"
    },
    "id": "E22d5hwjjIaO",
    "outputId": "ddbf0b1d-fbf2-4e93-e665-4f6f42581a05"
   },
   "outputs": [
    {
     "name": "stdout",
     "output_type": "stream",
     "text": [
      "+--------------+-----------+-------------+-----------+----+-----------------+\n",
      "|     review_id|star_rating|helpful_votes|total_votes|vine|verified_purchase|\n",
      "+--------------+-----------+-------------+-----------+----+-----------------+\n",
      "| RTIS3L2M1F5SM|          5|            0|          0|   N|                Y|\n",
      "| R1ZV7R40OLHKD|          5|            0|          0|   N|                Y|\n",
      "|R3BH071QLH8QMC|          1|            0|          1|   N|                Y|\n",
      "|R127K9NTSXA2YH|          3|            0|          0|   N|                Y|\n",
      "|R32ZWUXDJPW27Q|          4|            0|          0|   N|                Y|\n",
      "|R3AQQ4YUKJWBA6|          1|            0|          0|   N|                Y|\n",
      "|R2F0POU5K6F73F|          5|            0|          0|   N|                Y|\n",
      "|R3VNR804HYSMR6|          5|            0|          0|   N|                Y|\n",
      "| R3GZTM72WA2QH|          5|            0|          0|   N|                Y|\n",
      "| RNQOY62705W1K|          4|            0|          0|   N|                Y|\n",
      "|R1VTIA3JTYBY02|          5|            0|          0|   N|                N|\n",
      "|R29DOU8791QZL8|          1|            0|          0|   N|                Y|\n",
      "|R15DUT1VIJ9RJZ|          2|            0|          0|   N|                Y|\n",
      "|R3IMF2MQ3OU9ZM|          4|            0|          0|   N|                Y|\n",
      "|R23H79DHOZTYAU|          1|            1|          1|   N|                Y|\n",
      "| RIV24EQAIXA4O|          5|            0|          0|   N|                Y|\n",
      "|R3UCNGYDVN24YB|          5|            0|          0|   N|                Y|\n",
      "| RUL4H4XTTN2DY|          5|            0|          0|   N|                Y|\n",
      "|R20JF7Z4DHTNX5|          5|            0|          0|   N|                Y|\n",
      "|R2T1AJ5MFI2260|          4|            0|          0|   N|                Y|\n",
      "+--------------+-----------+-------------+-----------+----+-----------------+\n",
      "only showing top 20 rows\n",
      "\n"
     ]
    }
   ],
   "source": [
    "# Create the vine_table. DataFrame\n",
    "vine_df = df.select([\"review_id\", \"star_rating\", \"helpful_votes\", \"total_votes\", \"vine\", \"verified_purchase\"])\n",
    "vine_df.show()"
   ]
  },
  {
   "cell_type": "code",
   "execution_count": 5,
   "metadata": {
    "colab": {
     "base_uri": "https://localhost:8080/"
    },
    "id": "tJDpqWX2jLjL",
    "outputId": "64091178-b3a7-4db7-b872-8828f9bcff46"
   },
   "outputs": [
    {
     "name": "stdout",
     "output_type": "stream",
     "text": [
      "+--------------+-----------+-------------+-----------+----+-----------------+\n",
      "|     review_id|star_rating|helpful_votes|total_votes|vine|verified_purchase|\n",
      "+--------------+-----------+-------------+-----------+----+-----------------+\n",
      "| R4PKAZRQJJX14|          1|           21|         34|   N|                N|\n",
      "|R2CI0Y288CC7E2|          1|           21|         35|   N|                Y|\n",
      "|R127WEQY2FM1T3|          1|          147|        175|   N|                Y|\n",
      "|R3EZ0EPYLDA34S|          1|           14|         31|   N|                Y|\n",
      "|R2FJ94555FZH32|          2|           55|         60|   N|                N|\n",
      "|R1U3AR67RE273L|          1|           51|         65|   N|                Y|\n",
      "|R3PZOXA5X1U8KW|          4|           31|         36|   N|                N|\n",
      "| R6KTC1OPIOIIG|          2|           19|         34|   N|                Y|\n",
      "|R36O341WWXXKNP|          5|           28|         31|   N|                N|\n",
      "|R3GSK9MM8DNOYI|          1|            4|         32|   N|                N|\n",
      "|R10LZVBLQHBVJ0|          2|          151|        198|   N|                N|\n",
      "|R1VR5GLGY1GE7N|          1|           49|         51|   N|                Y|\n",
      "|R3GUUC6NT4QMCL|          1|            5|         36|   N|                N|\n",
      "|R1ZSD020RT18I5|          1|            7|        139|   N|                N|\n",
      "|R113X48B575ASY|          1|           15|         45|   N|                N|\n",
      "| RJLYLGRYH7SFQ|          1|           34|        116|   N|                N|\n",
      "|R2OWDAR0EDEPTF|          1|           23|         28|   N|                N|\n",
      "|R3CICXKAHN6NUD|          1|            0|         23|   N|                Y|\n",
      "|R29BOS5HMAY1LO|          5|           88|        110|   N|                N|\n",
      "| R8WD0136CETA7|          2|           99|        119|   N|                N|\n",
      "+--------------+-----------+-------------+-----------+----+-----------------+\n",
      "only showing top 20 rows\n",
      "\n"
     ]
    }
   ],
   "source": [
    "from pyspark.sql.functions import col, avg\n",
    "\n",
    "filtered_vine_df = vine_df.filter(col('total_votes') >= 20)\n",
    "\n",
    "filtered_vine_df.show()"
   ]
  },
  {
   "cell_type": "code",
   "execution_count": 6,
   "metadata": {
    "colab": {
     "base_uri": "https://localhost:8080/"
    },
    "id": "GvJSWrs9j_Bg",
    "outputId": "3958b0c1-55e0-4aad-de74-71aa2146636c"
   },
   "outputs": [
    {
     "name": "stdout",
     "output_type": "stream",
     "text": [
      "+--------------+-----------+-------------+-----------+----+-----------------+------------------+\n",
      "|     review_id|star_rating|helpful_votes|total_votes|vine|verified_purchase|helpful percentage|\n",
      "+--------------+-----------+-------------+-----------+----+-----------------+------------------+\n",
      "| R4PKAZRQJJX14|          1|           21|         34|   N|                N|0.6176470588235294|\n",
      "|R2CI0Y288CC7E2|          1|           21|         35|   N|                Y|               0.6|\n",
      "|R127WEQY2FM1T3|          1|          147|        175|   N|                Y|              0.84|\n",
      "|R2FJ94555FZH32|          2|           55|         60|   N|                N|0.9166666666666666|\n",
      "|R1U3AR67RE273L|          1|           51|         65|   N|                Y|0.7846153846153846|\n",
      "|R3PZOXA5X1U8KW|          4|           31|         36|   N|                N|0.8611111111111112|\n",
      "| R6KTC1OPIOIIG|          2|           19|         34|   N|                Y|0.5588235294117647|\n",
      "|R36O341WWXXKNP|          5|           28|         31|   N|                N|0.9032258064516129|\n",
      "|R10LZVBLQHBVJ0|          2|          151|        198|   N|                N|0.7626262626262627|\n",
      "|R1VR5GLGY1GE7N|          1|           49|         51|   N|                Y|0.9607843137254902|\n",
      "|R2OWDAR0EDEPTF|          1|           23|         28|   N|                N|0.8214285714285714|\n",
      "|R29BOS5HMAY1LO|          5|           88|        110|   N|                N|               0.8|\n",
      "| R8WD0136CETA7|          2|           99|        119|   N|                N|0.8319327731092437|\n",
      "|R16621F16PQN5A|          3|           24|         31|   N|                Y|0.7741935483870968|\n",
      "|R1LXBPG1M9DDOC|          1|          102|        106|   N|                N|0.9622641509433962|\n",
      "| RNEMGSUKJ4535|          2|           21|         25|   N|                Y|              0.84|\n",
      "|R3R2UKBFKP1IQ4|          1|           19|         23|   N|                Y|0.8260869565217391|\n",
      "|R2T90XM5G2DBZA|          3|           15|         22|   N|                Y|0.6818181818181818|\n",
      "| R5ZMK0Y0KRBRZ|          1|           79|         91|   N|                N|0.8681318681318682|\n",
      "|R12E2W0XOV3I2S|          1|           24|         30|   N|                Y|               0.8|\n",
      "+--------------+-----------+-------------+-----------+----+-----------------+------------------+\n",
      "only showing top 20 rows\n",
      "\n"
     ]
    }
   ],
   "source": [
    "helpful_vine_df = filtered_vine_df.withColumn('helpful percentage', col(\"helpful_votes\")/col(\"total_votes\")).filter((col('helpful_votes')/col('total_votes')>= 0.5))\n",
    "helpful_vine_df.show()"
   ]
  },
  {
   "cell_type": "code",
   "execution_count": 7,
   "metadata": {
    "colab": {
     "base_uri": "https://localhost:8080/"
    },
    "id": "FeCd0Y2PlUHG",
    "outputId": "232de3a9-9adc-43bc-bd2f-63d569494bee"
   },
   "outputs": [
    {
     "name": "stdout",
     "output_type": "stream",
     "text": [
      "+--------------+-----------+-------------+-----------+----+-----------------+------------------+\n",
      "|     review_id|star_rating|helpful_votes|total_votes|vine|verified_purchase|helpful percentage|\n",
      "+--------------+-----------+-------------+-----------+----+-----------------+------------------+\n",
      "|R3KKUSGFZWSUIY|          5|           56|         63|   Y|                N|0.8888888888888888|\n",
      "|R10FO5UKKVZBK2|          3|           23|         23|   Y|                N|               1.0|\n",
      "| RM4KSGEOR7MU1|          5|           19|         24|   Y|                N|0.7916666666666666|\n",
      "| RG7VRMYLEXD23|          4|           22|         26|   Y|                N|0.8461538461538461|\n",
      "|R11O4YSCPSNL6L|          3|           20|         26|   Y|                N|0.7692307692307693|\n",
      "|R286MFBAJ8NPD6|          5|           46|         51|   Y|                N|0.9019607843137255|\n",
      "|R1JRR530H4COA2|          5|           22|         28|   Y|                N|0.7857142857142857|\n",
      "| RQ5WD90PUNBU9|          5|           21|         24|   Y|                N|             0.875|\n",
      "|R12648VHCQWUV9|          4|           21|         28|   Y|                N|              0.75|\n",
      "|R3KAW29CJ8L6DQ|          5|           17|         20|   Y|                N|              0.85|\n",
      "|R1OWK33OPI45KT|          5|           55|         58|   Y|                N|0.9482758620689655|\n",
      "|R2UP7VTED8O425|          5|           35|         41|   Y|                N|0.8536585365853658|\n",
      "|R3N4QAXTQCA1ED|          5|           18|         20|   Y|                N|               0.9|\n",
      "|R3EPHK0JGQGE91|          5|           21|         28|   Y|                N|              0.75|\n",
      "| RCP3KRO47S0GG|          4|           51|         58|   Y|                N|0.8793103448275862|\n",
      "|R3JT907UUA1WUI|          4|           85|        103|   Y|                N|0.8252427184466019|\n",
      "| RY0555ILXIYXW|          5|           38|         50|   Y|                N|              0.76|\n",
      "|R24PS9N276OXF4|          5|          241|        262|   Y|                N|0.9198473282442748|\n",
      "|R3R0F8ETAGTIOT|          5|           14|         20|   Y|                N|               0.7|\n",
      "| ROXZOMHBY8Y9S|          4|           21|         23|   Y|                N|0.9130434782608695|\n",
      "+--------------+-----------+-------------+-----------+----+-----------------+------------------+\n",
      "only showing top 20 rows\n",
      "\n"
     ]
    }
   ],
   "source": [
    "vine_program = helpful_vine_df.filter(col(\"vine\")==\"Y\")\n",
    "\n",
    "vine_program.show()"
   ]
  },
  {
   "cell_type": "code",
   "execution_count": 8,
   "metadata": {
    "colab": {
     "base_uri": "https://localhost:8080/"
    },
    "id": "6nwPJpswmhTD",
    "outputId": "592b4cd7-9362-410c-fc19-74cd1b91b7b8"
   },
   "outputs": [
    {
     "name": "stdout",
     "output_type": "stream",
     "text": [
      "+--------------+-----------+-------------+-----------+----+-----------------+------------------+\n",
      "|     review_id|star_rating|helpful_votes|total_votes|vine|verified_purchase|helpful percentage|\n",
      "+--------------+-----------+-------------+-----------+----+-----------------+------------------+\n",
      "| R4PKAZRQJJX14|          1|           21|         34|   N|                N|0.6176470588235294|\n",
      "|R2CI0Y288CC7E2|          1|           21|         35|   N|                Y|               0.6|\n",
      "|R127WEQY2FM1T3|          1|          147|        175|   N|                Y|              0.84|\n",
      "|R2FJ94555FZH32|          2|           55|         60|   N|                N|0.9166666666666666|\n",
      "|R1U3AR67RE273L|          1|           51|         65|   N|                Y|0.7846153846153846|\n",
      "|R3PZOXA5X1U8KW|          4|           31|         36|   N|                N|0.8611111111111112|\n",
      "| R6KTC1OPIOIIG|          2|           19|         34|   N|                Y|0.5588235294117647|\n",
      "|R36O341WWXXKNP|          5|           28|         31|   N|                N|0.9032258064516129|\n",
      "|R10LZVBLQHBVJ0|          2|          151|        198|   N|                N|0.7626262626262627|\n",
      "|R1VR5GLGY1GE7N|          1|           49|         51|   N|                Y|0.9607843137254902|\n",
      "|R2OWDAR0EDEPTF|          1|           23|         28|   N|                N|0.8214285714285714|\n",
      "|R29BOS5HMAY1LO|          5|           88|        110|   N|                N|               0.8|\n",
      "| R8WD0136CETA7|          2|           99|        119|   N|                N|0.8319327731092437|\n",
      "|R16621F16PQN5A|          3|           24|         31|   N|                Y|0.7741935483870968|\n",
      "|R1LXBPG1M9DDOC|          1|          102|        106|   N|                N|0.9622641509433962|\n",
      "| RNEMGSUKJ4535|          2|           21|         25|   N|                Y|              0.84|\n",
      "|R3R2UKBFKP1IQ4|          1|           19|         23|   N|                Y|0.8260869565217391|\n",
      "|R2T90XM5G2DBZA|          3|           15|         22|   N|                Y|0.6818181818181818|\n",
      "| R5ZMK0Y0KRBRZ|          1|           79|         91|   N|                N|0.8681318681318682|\n",
      "|R12E2W0XOV3I2S|          1|           24|         30|   N|                Y|               0.8|\n",
      "+--------------+-----------+-------------+-----------+----+-----------------+------------------+\n",
      "only showing top 20 rows\n",
      "\n"
     ]
    }
   ],
   "source": [
    "no_vine_program = helpful_vine_df.filter(col(\"vine\")==\"N\")\n",
    "\n",
    "no_vine_program.show()"
   ]
  },
  {
   "cell_type": "code",
   "execution_count": 11,
   "metadata": {
    "colab": {
     "base_uri": "https://localhost:8080/"
    },
    "id": "4muGj0-1nSrw",
    "outputId": "44b383c8-3534-4d10-b069-ecefde24d37f"
   },
   "outputs": [
    {
     "name": "stdout",
     "output_type": "stream",
     "text": [
      "+---------------------+------------------+----------------+\n",
      "|Total in Vine Program|Total 5 Star Count|% 5 Star Ratings|\n",
      "+---------------------+------------------+----------------+\n",
      "|                   94|                48|           51.06|\n",
      "+---------------------+------------------+----------------+\n",
      "\n"
     ]
    }
   ],
   "source": [
    "\n",
    "from pyspark.sql.functions import format_number\n",
    "\n",
    "#Create data for summary statistics\n",
    "vp_count = vine_program.select(\"total_votes\").count()\n",
    "\n",
    "vp_5_count = vine_program.filter(col(\"star_rating\")==5).select(\"total_votes\").count()\n",
    "\n",
    "vp_perc_5 = (vp_5_count/vp_count)*100\n",
    "\n",
    "vp_sr_avg = vine_program.groupby().avg()\n",
    "\n",
    "# Create Vine Program summary statistics\n",
    "vp_sum_stats = spark.createDataFrame(data=[(vp_count, vp_5_count, vp_perc_5)], schema=[\n",
    "      \"Total in Vine Program\",\n",
    "      \"Total 5 Star Count\",\n",
    "      \"% 5 Star Ratings\"                                                                                         \n",
    "])\n",
    "\n",
    "# Display Summary Statistics for reviews in the Vine Program\n",
    "vp_sum_stats.select(\"Total in Vine Program\", \"Total 5 Star Count\", format_number(\"% 5 Star Ratings\", 2).alias(\"% 5 Star Ratings\")).show()"
   ]
  },
  {
   "cell_type": "code",
   "execution_count": 12,
   "metadata": {
    "colab": {
     "base_uri": "https://localhost:8080/"
    },
    "id": "LnlWH_JIodx3",
    "outputId": "c8aae091-a3ea-4a92-d045-8409299fa73c"
   },
   "outputs": [
    {
     "name": "stdout",
     "output_type": "stream",
     "text": [
      "+-------------------------+------------------+----------------+\n",
      "|Total not in Vine Program|Total 5 Star Count|% 5 Star Ratings|\n",
      "+-------------------------+------------------+----------------+\n",
      "|                    40471|             15663|           38.70|\n",
      "+-------------------------+------------------+----------------+\n",
      "\n"
     ]
    }
   ],
   "source": [
    "#Create data for summary statistics\n",
    "no_vp_count = no_vine_program.select(\"total_votes\").count()\n",
    "\n",
    "no_vp_5_count = no_vine_program.filter(col(\"star_rating\")==5).select(\"total_votes\").count()\n",
    "\n",
    "no_vp_perc_5 = (no_vp_5_count/no_vp_count)*100\n",
    "\n",
    "vp_sr_avg = vine_program.select(\"star_rating\").groupby().avg()\n",
    "\n",
    "# Create Vine Program summary statistics\n",
    "no_vp_sum_stats = spark.createDataFrame(data=[(no_vp_count, no_vp_5_count, no_vp_perc_5)], schema=[\n",
    "      \"Total not in Vine Program\",\n",
    "      \"Total 5 Star Count\",\n",
    "      \"% 5 Star Ratings\"                                                                                         \n",
    "])\n",
    "\n",
    "# Display Summary Statistics for reviews in the Vine Program\n",
    "no_vp_sum_stats.select(\"Total not in Vine Program\", \"Total 5 Star Count\", format_number(\"% 5 Star Ratings\", 2).alias(\"% 5 Star Ratings\")).show()"
   ]
  },
  {
   "cell_type": "code",
   "execution_count": 13,
   "metadata": {
    "colab": {
     "base_uri": "https://localhost:8080/"
    },
    "id": "mOG0mWlpzOy5",
    "outputId": "032deb84-3a09-40a0-efd6-005cccb75f27"
   },
   "outputs": [
    {
     "name": "stdout",
     "output_type": "stream",
     "text": [
      "+-----------------+\n",
      "| avg(star_rating)|\n",
      "+-----------------+\n",
      "|4.202127659574468|\n",
      "+-----------------+\n",
      "\n"
     ]
    }
   ],
   "source": [
    "vp_sr_avg = vine_program.select(\"star_rating\").groupby().avg().show()"
   ]
  },
  {
   "cell_type": "code",
   "execution_count": 14,
   "metadata": {
    "colab": {
     "base_uri": "https://localhost:8080/"
    },
    "id": "zT8yJxsUJWeO",
    "outputId": "63edddcc-ab31-4a39-8ef4-7ea349ffc090"
   },
   "outputs": [
    {
     "name": "stdout",
     "output_type": "stream",
     "text": [
      "+----------------+\n",
      "|avg(star_rating)|\n",
      "+----------------+\n",
      "|3.34765634651973|\n",
      "+----------------+\n",
      "\n"
     ]
    }
   ],
   "source": [
    "no_vp_sr_avg = no_vine_program.select(\"star_rating\").groupby().avg().show()"
   ]
  },
  {
   "cell_type": "code",
   "execution_count": null,
   "metadata": {
    "id": "ehz0zrKKKQPa"
   },
   "outputs": [],
   "source": []
  }
 ],
 "metadata": {
  "colab": {
   "collapsed_sections": [],
   "name": "Vine Review Analysis.ipynb",
   "provenance": []
  },
  "kernelspec": {
   "display_name": "Python 3",
   "language": "python",
   "name": "python3"
  },
  "language_info": {
   "codemirror_mode": {
    "name": "ipython",
    "version": 3
   },
   "file_extension": ".py",
   "mimetype": "text/x-python",
   "name": "python",
   "nbconvert_exporter": "python",
   "pygments_lexer": "ipython3",
   "version": "3.8.5"
  }
 },
 "nbformat": 4,
 "nbformat_minor": 1
}
